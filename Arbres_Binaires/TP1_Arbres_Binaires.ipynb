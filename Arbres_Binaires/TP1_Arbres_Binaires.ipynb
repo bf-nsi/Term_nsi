{
 "cells": [
  {
   "cell_type": "markdown",
   "metadata": {},
   "source": [
    "---\n",
    "# Séquence 3 - TP1\n",
    "# Implémentation des arbres binaires avec une structure linéaire\n",
    "---"
   ]
  },
  {
   "cell_type": "markdown",
   "metadata": {},
   "source": [
    "\n",
    "La possibilité d'imbriquer les tuples ou les listes permet de représenter assez simplement des arbres binaires.\n",
    "Nous retiendrons ainsi la structure suivante :\n",
    "* Un arbre vide est représenté par une liste vide\n",
    "* Chaque noeud est une liste de 3 valeurs contenant dans l'ordre :\n",
    "    * l'étiquette du noeud\n",
    "    * le sous-arbre gauche (une liste éventuellement vide)\n",
    "    * le sous-arbre droit (une liste eventuellement vide)\n",
    "\n",
    "**Remarque :** Avec cette structure, une feuille aura le format $[etiquette,[],[]]$\n",
    "    "
   ]
  },
  {
   "cell_type": "markdown",
   "metadata": {},
   "source": [
    "1) En respectant la définition présentée ci-dessus, codé l'arbre binaire $A$ suivant.\n",
    "![Arbre](./arbre_tp1.jpg \"arbre\")"
   ]
  },
  {
   "cell_type": "code",
   "execution_count": null,
   "metadata": {},
   "outputs": [],
   "source": [
    "## Définition de l'arbre\n",
    "A=[]"
   ]
  },
  {
   "cell_type": "markdown",
   "metadata": {},
   "source": [
    "2) Définir les fonctions $gauche(A)$ et $droit(A)$ qui renvoient respectivement les sous-arbres gauche et droit de l'arbre $A$."
   ]
  },
  {
   "cell_type": "code",
   "execution_count": null,
   "metadata": {},
   "outputs": [],
   "source": [
    "def gauche(A:list)->list:\n",
    "    \"\"\"\n",
    "    Renvoie le sous-arbre gauche de l'arbre A\n",
    "    \"\"\"\n",
    "\n",
    "    \n",
    "def droit(A:list)->list:\n",
    "    \"\"\"\n",
    "    Renvoie le sous-arbre droit de l'arbre A\n",
    "    \"\"\"\n"
   ]
  },
  {
   "cell_type": "markdown",
   "metadata": {},
   "source": [
    "3) Programmer la fonction $estArbreBinaire(A)$ qui vérifie qui renvoie True si A respecte la définition de la structure de donnée arbre telle qu'elle est présentée ci-dessus.  \n",
    "    \n",
    "**Remarques :**\n",
    "* Cette fonction permettra de vérifier en précondition le type des paramètres passés aux fonctions que nous allons programmer dans cette partie.\n",
    "* Cette fonction  peut être récursive."
   ]
  },
  {
   "cell_type": "code",
   "execution_count": null,
   "metadata": {},
   "outputs": [],
   "source": [
    "def estArbreBinaire(A:list)->bool:\n",
    "    \"\"\"\n",
    "    Renvoie True si la liste A correspond à la définition d'un arbre binaire.\n",
    "    \"\"\""
   ]
  },
  {
   "cell_type": "markdown",
   "metadata": {},
   "source": [
    "4) a) Coder une fonction $creerArbre(r,SAG,SAD)$ qui renvoie l'arbre ayant pour racine $r$, $SAG$ comme sous-arbre gauche et $SAD$ comme sous arbre droit."
   ]
  },
  {
   "cell_type": "code",
   "execution_count": null,
   "metadata": {},
   "outputs": [],
   "source": [
    "def creerArbre(r:str,SAG:list,SAD:list)->list:\n",
    "    \"\"\"\n",
    "    Renvoie l'arbre de racine r de sous-arbre gauche SAG et de sous-arbre-droit SAD\n",
    "    \"\"\""
   ]
  },
  {
   "cell_type": "markdown",
   "metadata": {},
   "source": [
    "b) Créer un arbre $B$ de racine $R$, de sous-arbre gauche vide et de sous-arbre droit $A$"
   ]
  },
  {
   "cell_type": "code",
   "execution_count": null,
   "metadata": {},
   "outputs": [],
   "source": [
    "##Votre code ici"
   ]
  },
  {
   "cell_type": "markdown",
   "metadata": {},
   "source": [
    "5) Coder ci-dessous la fonction $taille(A)$ qui renvoie la taille d'un arbre binaire A.    On s'inspirera de la définition récursive vue dans le cours."
   ]
  },
  {
   "cell_type": "code",
   "execution_count": null,
   "metadata": {},
   "outputs": [],
   "source": [
    "def taille(A:list)->int:\n",
    "    \"\"\"\n",
    "    Renvoie la taille de l'arbre A\n",
    "    \"\"\""
   ]
  },
  {
   "cell_type": "markdown",
   "metadata": {},
   "source": [
    "6) Coder ci-dessous la fonction $hauteur(A)$ qui renvoie la hauteur d'un arbre binaire A.    On s'inspirera de la définition récursive vue dans le cours."
   ]
  },
  {
   "cell_type": "code",
   "execution_count": null,
   "metadata": {},
   "outputs": [],
   "source": [
    "def hauteur(A:list)->int:\n",
    "    \"\"\"\n",
    "    Renvoie la hauteur de l'arbre A\n",
    "    \"\"\""
   ]
  }
 ],
 "metadata": {
  "kernelspec": {
   "display_name": "Python 3",
   "language": "python",
   "name": "python3"
  },
  "language_info": {
   "codemirror_mode": {
    "name": "ipython",
    "version": 3
   },
   "file_extension": ".py",
   "mimetype": "text/x-python",
   "name": "python",
   "nbconvert_exporter": "python",
   "pygments_lexer": "ipython3",
   "version": "3.7.8"
  }
 },
 "nbformat": 4,
 "nbformat_minor": 4
}
