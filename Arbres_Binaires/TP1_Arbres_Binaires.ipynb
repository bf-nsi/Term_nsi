{
 "cells": [
  {
   "cell_type": "markdown",
   "metadata": {},
   "source": [
    "---\n",
    "# Séquence 3 - TP1\n",
    "# Implémentation des arbres binaires avec une structure linéaire\n",
    "---"
   ]
  },
  {
   "cell_type": "markdown",
   "metadata": {},
   "source": [
    "\n",
    "La possibilité d'imbriquer les tuples ou les listes permet de représenter assez simplement des arbres binaires.\n",
    "Nous retiendrons ainsi la structure suivante :\n",
    "* Un arbre vide est représenté par une liste vide\n",
    "* Chaque noeud est une liste de 3 valeurs contenant dans l'ordre :\n",
    "    * l'étiquette du noeud\n",
    "    * le sous-arbre gauche (une liste éventuellement vide)\n",
    "    * le sous-arbre droit (une liste eventuellement vide)\n",
    "\n",
    "**Remarque :** Avec cette structure, une feuille aura le format $[etiquette,[],[]]$\n",
    "    "
   ]
  },
  {
   "cell_type": "markdown",
   "metadata": {},
   "source": [
    "1) En respectant la définition présentée ci-dessus, coder l'arbre binaire $A$ suivant.\n"
   ]
  },
  {
   "cell_type": "code",
   "execution_count": null,
   "metadata": {},
   "outputs": [],
   "source": [
    "## Définition de l'arbre\n",
    "A=[]"
   ]
  },
  {
   "cell_type": "markdown",
   "metadata": {},
   "source": [
    "2) Définir les fonctions $gauche(A)$ et $droit(A)$ qui renvoient respectivement les sous-arbres gauche et droit de l'arbre $A$."
   ]
  },
  {
   "cell_type": "code",
   "execution_count": null,
   "metadata": {},
   "outputs": [],
   "source": [
    "def gauche(A:list)->list:\n",
    "    \"\"\"\n",
    "    Renvoie le sous-arbre gauche de l'arbre A\n",
    "    \"\"\"\n",
    "\n",
    "    \n",
    "def droit(A:list)->list:\n",
    "    \"\"\"\n",
    "    Renvoie le sous-arbre droit de l'arbre A\n",
    "    \"\"\"\n"
   ]
  },
  {
   "cell_type": "markdown",
   "metadata": {},
   "source": [
    "La fonction $view(A)$ codée ci-dessous permet de visualiser l'arbre de manière lisible. Faites afficher l'arbre $A$."
   ]
  },
  {
   "cell_type": "code",
   "execution_count": null,
   "metadata": {},
   "outputs": [],
   "source": [
    "def displayArbre(A:list,n,car:str):\n",
    "    if A!=[]:\n",
    "        displayArbre(droit(A),n+4,'/')\n",
    "        print(n*\" \"+car,end=\" \")\n",
    "        print(A[0])\n",
    "        displayArbre(gauche(A),n+4,'\\\\')\n",
    "\n",
    "def view(A:list):\n",
    "    displayArbre(A,0,\"\")\n",
    "\n",
    "view(A)"
   ]
  },
  {
   "cell_type": "markdown",
   "metadata": {},
   "source": [
    "3) a) Programmer la fonction $estArbreBinaire(A)$ qui renvoie $True$ si la liste $A$ respecte la définition de la structure de donnée arbre telle qu'elle est présentée ci-dessus.  "
   ]
  },
  {
   "cell_type": "code",
   "execution_count": null,
   "metadata": {},
   "outputs": [],
   "source": [
    "def estArbreBinaire(A:list)->bool:\n",
    "    \"\"\"\n",
    "    Renvoie True si la liste A correspond à la définition d'un arbre binaire.\n",
    "    \"\"\"\n"
   ]
  },
  {
   "cell_type": "markdown",
   "metadata": {},
   "source": [
    "b) Programmer une fonction $estFeuille(A)$ qui renvoie $True$ si $A$ est une feuille et une fonction $estVide(A)$ qui renvoie $True$ si $A$ est un arbre vide. Tester vos fonctions sur des exemples simples."
   ]
  },
  {
   "cell_type": "code",
   "execution_count": null,
   "metadata": {},
   "outputs": [],
   "source": [
    "def estFeuille(A:list)->bool:\n",
    "    \"\"\"\n",
    "    Renvoie True si A est une feuille. \n",
    "    \"\"\"\n",
    "\n",
    "def estVide(A:list)->bool:\n",
    "    \"\"\"\n",
    "    Renvoie $True$ si A est un arbre vide\n",
    "    \"\"\"\n",
    "                  "
   ]
  },
  {
   "cell_type": "markdown",
   "metadata": {},
   "source": [
    "c) Ecrire une fonction $racine(A)$ qui renvoie la valeur de la racine de l'arbre $A$."
   ]
  },
  {
   "cell_type": "code",
   "execution_count": null,
   "metadata": {},
   "outputs": [],
   "source": [
    "def racine(A:list):\n",
    "    \"\"\"\n",
    "    Renvoie la valeur de la racine de l'arbre A. \n",
    "    \"\"\""
   ]
  },
  {
   "cell_type": "markdown",
   "metadata": {},
   "source": [
    "4) a) Coder une fonction $creerArbre(r,SAG,SAD)$ qui renvoie l'arbre ayant pour racine $r$, $SAG$ comme sous-arbre gauche et $SAD$ comme sous arbre droit."
   ]
  },
  {
   "cell_type": "code",
   "execution_count": null,
   "metadata": {},
   "outputs": [],
   "source": [
    "def creerArbre(r:str,SAG:list,SAD:list)->list:\n",
    "    \"\"\"\n",
    "    Renvoie l'arbre de racine r de sous-arbre gauche SAG et de sous-arbre-droit SAD\n",
    "    \"\"\""
   ]
  },
  {
   "cell_type": "markdown",
   "metadata": {},
   "source": [
    "b) Créer un arbre $B$ de racine $R$ dont le sous-arbre gauche est vide et de sous-arbre droit est $A$"
   ]
  },
  {
   "cell_type": "code",
   "execution_count": null,
   "metadata": {},
   "outputs": [],
   "source": [
    "#Votre code ici"
   ]
  },
  {
   "cell_type": "markdown",
   "metadata": {},
   "source": [
    "5) Coder ci-dessous la fonction $taille(A)$ qui renvoie la taille d'un arbre binaire A.    On s'inspirera de la définition récursive vue dans le cours."
   ]
  },
  {
   "cell_type": "code",
   "execution_count": null,
   "metadata": {},
   "outputs": [],
   "source": [
    "def taille(A:list)->int:\n",
    "    \"\"\"\n",
    "    Renvoie la taille de l'arbre A\n",
    "    \"\"\""
   ]
  },
  {
   "cell_type": "markdown",
   "metadata": {},
   "source": [
    "6) Coder ci-dessous la fonction $hauteur(A)$ qui renvoie la hauteur d'un arbre binaire A.    On s'inspirera de la définition récursive vue dans le cours."
   ]
  },
  {
   "cell_type": "code",
   "execution_count": null,
   "metadata": {
    "scrolled": true
   },
   "outputs": [],
   "source": [
    "\n",
    "def hauteur(A:list)->int:\n",
    "    \"\"\"\n",
    "    Renvoie la hauteur de l'arbre A\n",
    "    \"\"\""
   ]
  },
  {
   "cell_type": "markdown",
   "metadata": {},
   "source": [
    "7) a) Coder ci-dessous la fonction $estFiliforme(A)$ qui renvoie $True$ si l'arbre binaire A est filiforme."
   ]
  },
  {
   "cell_type": "code",
   "execution_count": null,
   "metadata": {},
   "outputs": [],
   "source": [
    "def estFiliforme(A:list)->int:\n",
    "    \"\"\"\n",
    "    Renvoie True si l'arbre binaire A est filiforme.\n",
    "    \"\"\" "
   ]
  },
  {
   "cell_type": "markdown",
   "metadata": {},
   "source": [
    "b) Creer un arbre filiforme $fili$ (en alternant SAG et SAD vides) et tester votre fonction."
   ]
  },
  {
   "cell_type": "code",
   "execution_count": null,
   "metadata": {},
   "outputs": [],
   "source": [
    "fili=[]"
   ]
  },
  {
   "cell_type": "markdown",
   "metadata": {},
   "source": [
    "8) Coder ci-dessous la fonction $estEquilibre(A)$ qui renvoie $True$ si l'arbre binaire A est équilibré. Vous pourrez tester votre fonction sur les arbres A et B crées précedemment."
   ]
  },
  {
   "cell_type": "code",
   "execution_count": null,
   "metadata": {},
   "outputs": [],
   "source": [
    "def estEquilibre(A:list)->bool:\n",
    "    \"\"\"\n",
    "    Renvoie True si l'arbre binaire A est équilibré.\n",
    "    \"\"\""
   ]
  }
 ],
 "metadata": {
  "kernelspec": {
   "display_name": "Python 3",
   "language": "python",
   "name": "python3"
  },
  "language_info": {
   "codemirror_mode": {
    "name": "ipython",
    "version": 3
   },
   "file_extension": ".py",
   "mimetype": "text/x-python",
   "name": "python",
   "nbconvert_exporter": "python",
   "pygments_lexer": "ipython3",
   "version": "3.7.6"
  }
 },
 "nbformat": 4,
 "nbformat_minor": 4
}
