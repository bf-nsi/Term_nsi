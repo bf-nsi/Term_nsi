{
 "cells": [
  {
   "cell_type": "markdown",
   "metadata": {},
   "source": [
    "---\n",
    "# Evaluation pratique : Les matrices.                                \n",
    "---\n",
    "  \n",
    "---\n",
    "**Consignes générales :**  \n",
    "- *Vous avez deux heures pour traiter ce sujet, qui est noté sur 15 points.*  \n",
    "- *Vous renderez votre travail sous forme d'un notebook nommé **Matrices_nom.ipynb** via le rendu de devoir Ecole Directe.*  \n",
    "- *Dans tout ce sujet, vous compléterez les assertions des fonctions proposées en analysant le message correspondant.*  \n",
    "---\n",
    "\n",
    "Les matrices sont des tableaux de valeurs que nous avons déjà rencontrés et que nous représenterons en python par des listes de listes.  \n",
    "Ainsi, les lignes de la matrice correspondent aux éléments de la liste python principale.   \n",
    "\n",
    "   \n",
    "**Exemple :**  \n",
    "La matrice $A= \\begin{pmatrix} 0 & 1 & 2 \\\\ 3 & 4 & 5 \\end{pmatrix}$ est codée ci-dessous par :"
   ]
  },
  {
   "cell_type": "code",
   "execution_count": null,
   "metadata": {},
   "outputs": [],
   "source": [
    "A=[[0,1,2],[3,4,5]]"
   ]
  },
  {
   "cell_type": "markdown",
   "metadata": {},
   "source": [
    "Voici une fonction permettant d'afficher les matrices avec formatage :"
   ]
  },
  {
   "cell_type": "code",
   "execution_count": null,
   "metadata": {},
   "outputs": [],
   "source": [
    "def impr_matrice(A:list):\n",
    "    for ligne in A :\n",
    "        for elem in ligne:\n",
    "            print(str(elem)+\"\\t\",end=\"\")\n",
    "        print(\"\\n\")\n",
    "\n",
    "# Test :\n",
    "impr_matrice(A)"
   ]
  },
  {
   "cell_type": "markdown",
   "metadata": {},
   "source": [
    "### Exercice 1 : (1 point)\n",
    "Définir la matrice $B= \\begin{pmatrix} 6 & 7 \\\\ 8 & 9 \\\\ 10 & 11 \\end{pmatrix}$ et afficher $B$ avec la fonction définie ci-dessus."
   ]
  },
  {
   "cell_type": "code",
   "execution_count": null,
   "metadata": {},
   "outputs": [],
   "source": [
    "# Votre code ici"
   ]
  },
  {
   "cell_type": "markdown",
   "metadata": {},
   "source": [
    "### Exercice 2 : Dimension d'une matrice.  (2 points)\n",
    "La **dimension** d'une matrice comportant $n$ lignes et $m$ colonnes est $n\\times m$. \n",
    "  \n",
    "**Exemple :** la matrice $A$ est de dimension $2 \\times 3$.  \n",
    "  \n",
    "Quelle est la dimension de la matrice $B$ ?\n"
   ]
  },
  {
   "cell_type": "markdown",
   "metadata": {},
   "source": [
    "*Votre réponse ici*"
   ]
  },
  {
   "cell_type": "markdown",
   "metadata": {},
   "source": [
    "Coder la fonction $dim(A)$ qui renvoie la dimension de la matrice $A$ sous forme d'un tuple, et qui renvoie $(-1,-1)$ si $A$ n'est pas une matrice (c'est à dire, si toutes les lignes n'ont pas la même longueur)."
   ]
  },
  {
   "cell_type": "code",
   "execution_count": null,
   "metadata": {},
   "outputs": [],
   "source": [
    "def dim(A:list)->tuple:\n",
    "    \"\"\"\n",
    "    Renvoie la dimension de la matrice A sous forme de tuple.\n",
    "    Renvoie (-1,-1) si A n'est pas une matrice\n",
    "    \"\"\"\n",
    "    \n",
    "    # Votre code ici\n",
    "\n",
    "# Tests :\n",
    "print(\"Dimension de A : \",dim(A))\n",
    "print(\"Dimension de B : \",dim(B))\n",
    "print(\"Avec un tableau ne représentant pas une matrice : \",dim([[1,0],[1]]))"
   ]
  },
  {
   "cell_type": "markdown",
   "metadata": {},
   "source": [
    "### Exercice 3 : Somme de matrice (2,5 points)\n",
    "La somme de deux matrices $A$ et $B$ de **même dimension** est une matrice de même dimension dont les éléments sont la somme des éléments de même position des matrices $A$ et $B$.  \n",
    "  \n",
    "**Exemple :**  \n",
    "$ A + D = \n",
    "  \\begin{pmatrix} 0 & 1 & 2 \\\\ 3 & 4 & 5 \\end{pmatrix} +\n",
    "  \\begin{pmatrix} 6 & 7 & 8 \\\\ 9 & 10 & 11 \\end{pmatrix} = \n",
    "  \\begin{pmatrix} 0 + 6  & 1 + 7 & 2 + 8\\\\ 3 + 9 & 4 + 10 & 5 + 11 \\end{pmatrix} = \n",
    "  \\begin{pmatrix} 6 & 8 & 10 \\\\ 12 & 14 & 16  \\end{pmatrix}$  \n",
    "  \n",
    "1) Coder ci-dessous la fonction $somme(A,B)$ qui renvoie la somme $A+B$.\n"
   ]
  },
  {
   "cell_type": "code",
   "execution_count": null,
   "metadata": {},
   "outputs": [],
   "source": [
    "def somme(A:list,B:list)->list :\n",
    "    \"\"\"\n",
    "    Renvoie la somme des matrices A et B.\n",
    "    \"\"\"\n",
    "    assert , \"A et B sont des matrices de même dimension\"\n",
    "    \n",
    "    # Votre code ici\n",
    "\n",
    "# Test : \n",
    "D=[[6,7,8],[9,10,11]]\n",
    "impr_matrice(somme(A,D))"
   ]
  },
  {
   "cell_type": "markdown",
   "metadata": {},
   "source": [
    "2) A partir de cette définition, il est facile d'imaginer ce que représente $2 \\times A = A+A$, ... et donc de l'étendre à la définition de la multiplication d'une matrice par un nombre réel comme étant la matrice dont tous les éléments sont ceux de $A$ multipliés par ce nombre.  \n",
    "  \n",
    "En utilisant uniquement la fonction $somme$ codée ci-dessus, calculer et afficher la matrice $2A+3D$."
   ]
  },
  {
   "cell_type": "code",
   "execution_count": null,
   "metadata": {},
   "outputs": [],
   "source": [
    "# Votre expression\n"
   ]
  },
  {
   "cell_type": "markdown",
   "metadata": {},
   "source": [
    "### Exercice 4 : Fonctions auxiliaires. (3,5 points)\n",
    "Dans cet exercice, nous allons coder deux fonctions qui nous permettrons d'implémenter le produit de matrices qui sera abordé dans l'exercice suivant. \n",
    "  \n",
    "**Remarque :** Attention, la numérotation des lignes et des colonnes d'une matrice commence à 1, alors que l'indexation des listes Python commence à 0.\n",
    "  \n",
    "1) Coder la fonction $colonne(A:list,n:int)$ qui renvoie la colonne $n$ de la matrice $A$ sous forme d'une liste.  \n",
    "\n",
    "**Exemple :** $colonne(A,3)$ donne en résultat $[2,5]$.  "
   ]
  },
  {
   "cell_type": "code",
   "execution_count": null,
   "metadata": {},
   "outputs": [],
   "source": [
    "def colonne(A:list,n:int)->list:\n",
    "    \"\"\"\n",
    "    Renvoie la colonne n de la matrice A sous forme de liste\n",
    "    \"\"\"\n",
    "    assert ,\"A doit être une matrice\"\n",
    "    assert ,\"n doit correspondre au rang d'une colonne\"\n",
    "    \n",
    "    # Votre code ici\n",
    "    \n",
    "    \n",
    "# Tests : \n",
    "print(colonne(A,3))"
   ]
  },
  {
   "cell_type": "markdown",
   "metadata": {},
   "source": [
    "2) Coder la fonction $scalaire(L1:list,L2:list)$ qui renvoie la somme des produits des éléments des listes $L1$ et $L2$ de même rang.  \n",
    "  \n",
    "**Exemple :**\n",
    "$scalaire([1,2,3],[4,5,6])= 1 \\times 4 + 2 \\times 5 + 3 \\times 6 = 32$"
   ]
  },
  {
   "cell_type": "code",
   "execution_count": null,
   "metadata": {},
   "outputs": [],
   "source": [
    "def scalaire(L1:list,L2:list):\n",
    "    \"\"\"\n",
    "    Renvoie la somme des produits des éléments des listes L1 et L2 de même rang\n",
    "    \"\"\"\n",
    "    assert ,\"Les listes doivent être de même longueur\"\n",
    "    \n",
    "    # Votre code ici\n",
    "    \n",
    "# Test :\n",
    "print(scalaire([1,2,3],[4,5,6]))"
   ]
  },
  {
   "cell_type": "markdown",
   "metadata": {},
   "source": [
    "### Exercice 5 : Produit de matrice. (2 points)\n",
    "On définit le produit des matrices $A \\times B$ de dimensions respectives $n \\times m$ et $m \\times p$ comme la matrice de dimension $n \\times p$ dont chaque élément $(i,j)$, avec $1 \\leq i \\leq n$ et $1 \\leq j \\leq p$, est égal au produit scalaire (tel qu'il a été défini dans la question précédente) de la ligne $i$ de la matrice $A$ par la colonne $j$ de la matrice $B$.  \n",
    "  \n",
    "**Remarques :**   \n",
    "- Comme vu précédemment, l'indexation des éléments d'une matrice commence à 1 alors que l'indexation des listes Python commence en 0. \n",
    "- On ne peut multiplier que des matrices dont les dimensions sont compatibles, c'est à dire que le nombre de colonnes de la première matrice est égal au nombre de lignes de la deuxième matrice.\n",
    "\n",
    "**Exemple :**\n",
    "$ A \\times B = \n",
    "  \\begin{pmatrix} 0 & 1 & 2 \\\\ 3 & 4 & 5 \\end{pmatrix} \\times \n",
    "  \\begin{pmatrix} 6 & 7 \\\\ 8 & 9 \\\\ 10 & 11 \\end{pmatrix} = \n",
    "  \\begin{pmatrix} 0 \\times 6 + 8 \\times 1 + 2 \\times 10 & 0 \\times 7 + 1 \\times 9 + 2 \\times 11  \\\\ 3 \\times 6 + 4 \\times 8 + 5 \\times 10 & 3 \\times 7 + 4 \\times 9 + 5 \\times 11 \\end{pmatrix} = \n",
    "  \\begin{pmatrix} 28 & 31 \\\\ 100 & 112 \\end{pmatrix}$  \n",
    "  \n",
    "En utilisant les fonction codées précédemment, compléter le code (lignes 2,3 et 10) de la fonction $produit(A,B)$ proposé ci-dessous qui fournit en résultat le produit $A \\times B$."
   ]
  },
  {
   "cell_type": "code",
   "execution_count": null,
   "metadata": {},
   "outputs": [],
   "source": [
    "def produit(A:list,B:list)->list:\n",
    "    assert ,\"Les paramètres doivent être des matrices\"\n",
    "    assert ,\"les dimensions des matrices doivent être compatibles pour le produit\"\n",
    "    \n",
    "    C=[] # initialisation de la matrice résultat\n",
    "    \n",
    "    for i in range(dim(A)[0]) :\n",
    "        ligne=[]\n",
    "        for j in range(1,dim(B)[1]+1):\n",
    "            ligne.append(# Votre code ici)\n",
    "        C.append(ligne)\n",
    "    return C\n",
    "\n",
    "#Test :\n",
    "impr_matrice(produit(A,B))"
   ]
  },
  {
   "cell_type": "markdown",
   "metadata": {},
   "source": [
    "### Exercice 6 : Matrices carrées et identité. (2 points)\n",
    "\n",
    "Une matrice carrée est une matrice comportant autant de lignes que de colonnes.  \n",
    "  \n",
    "**Exemple :**\n",
    "$ C =\\begin{pmatrix} 1 & -2 & 3 \\\\ -4 & 5 & -6 \\\\ 7 & -8 & 9 \\end{pmatrix}$ est une matrice carrée de dimension 3 (ou $3 \\times 3$)\n",
    "\n",
    "La matrice identité $I_{n}$ de dimension $n$ est la matrice carrée dont les éléments de la première diagonale sont égaux à 1, et 0 sinon.  \n",
    "\n",
    "**Exemple :**  \n",
    "La matrice identité de dimension 3 est $ I_{3} =\\begin{pmatrix} 1 & 0 & 0 \\\\ 0 & 1 & 0 \\\\ 0 & 0 & 1 \\end{pmatrix}$  \n",
    "1) Coder la fonction $id(n)$ qui renvoie la matrice identité de dimension $n$.  \n",
    "2) Calculer $C \\times I_{3}$ dans la partie test. Que remarque-t-on? (votre réponse en commentaire dans le code)\n",
    "\n"
   ]
  },
  {
   "cell_type": "code",
   "execution_count": null,
   "metadata": {},
   "outputs": [],
   "source": [
    "def id(n):\n",
    "    \"\"\"\n",
    "    Renvoie la matrice identité de dimension n\n",
    "    \"\"\"\n",
    "    \n",
    "    # Votre code ici\n",
    "    \n",
    "    \n",
    "## Tests :\n",
    "C=\n",
    "\n",
    "\n",
    "## Réponse : "
   ]
  },
  {
   "cell_type": "markdown",
   "metadata": {},
   "source": [
    "### Exercice 7 : Puissance d'une matrice. (2 points)\n",
    "\n",
    "On définit la puissance d'une matrice carrée $A$ d'exposant $n$, entier naturel, comme étant la matrice égale au produit de $A$ par elle-même $n$ fois.  \n",
    "On note $A^{n}=A \\times ... \\times A$ ($n$ fois).   \n",
    "Par convention : $A^{0}=I_{k}$, $k$ étant la dimension de $A$.  \n",
    "En utilisant la fonction $produit$, coder la fonction **récursive** $puissance(A,n)$ renvoyant la matrice $A^{n}$."
   ]
  },
  {
   "cell_type": "code",
   "execution_count": null,
   "metadata": {},
   "outputs": [],
   "source": [
    "def puissance(A,n:int):\n",
    "    \"\"\"\n",
    "    Renvoie la matrice A puissance n\n",
    "    \"\"\"\n",
    "    assert , \"A est une matrice carrée\"\n",
    "    \n",
    "    # Votre code ici\n",
    "\n",
    "# Tests :\n",
    "print(\"C puissance 0 : \\n\")\n",
    "impr_matrice(puissance(C,0))\n",
    "print(\"C puissance 1 : \\n\")\n",
    "impr_matrice(puissance(C,1))\n",
    "print(\"C puissance 4 : \\n\")\n",
    "impr_matrice(puissance(C,4))"
   ]
  }
 ],
 "metadata": {
  "kernelspec": {
   "display_name": "Python 3",
   "language": "python",
   "name": "python3"
  },
  "language_info": {
   "codemirror_mode": {
    "name": "ipython",
    "version": 3
   },
   "file_extension": ".py",
   "mimetype": "text/x-python",
   "name": "python",
   "nbconvert_exporter": "python",
   "pygments_lexer": "ipython3",
   "version": "3.7.6"
  }
 },
 "nbformat": 4,
 "nbformat_minor": 4
}
