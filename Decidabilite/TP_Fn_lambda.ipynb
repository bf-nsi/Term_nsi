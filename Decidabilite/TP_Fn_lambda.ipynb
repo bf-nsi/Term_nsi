{
 "cells": [
  {
   "cell_type": "markdown",
   "metadata": {},
   "source": [
    "---\n",
    " # TP : Notion de fonction en tant que donnée.    \n",
    " \n",
    " ## Découverte des fonctions anonymes de python.\n",
    "---"
   ]
  },
  {
   "cell_type": "markdown",
   "metadata": {},
   "source": [
    "## Partie A - Fonction passée en paramètre d'une fonction: Etude d'un tri générique.\n",
    "Dans cette section, nous allons étudier la possibilité de passer une fonction en paramètre d'une autre fonction, en vue ici, d'améliorer la généricité d'une fonction de tri.  \n",
    "\n",
    "Une fonction de tri en ordre croissant est proposée dans la cellule ci-dessous. La reconnaissez-vous? (indiquer sa nature dans le commentaire)"
   ]
  },
  {
   "cell_type": "code",
   "execution_count": null,
   "metadata": {},
   "outputs": [],
   "source": [
    "def tri(T:list)->list:\n",
    "    \"\"\"\n",
    "    Renvoie le tableau T trié selon l'algorithme du tri .............\n",
    "    \"\"\"\n",
    "    for i in range (1,len(T)):\n",
    "        x=T[i]\n",
    "        j=i-1\n",
    "        while j>=0 and T[j] > x :\n",
    "            T[j+1]=T[j]\n",
    "            j=j-1\n",
    "        T[j+1]=x\n",
    "    return T\n",
    "\n",
    "#Test\n",
    "T=[7,6,9,12,11,3,8,0,4]\n",
    "print(tri(T))"
   ]
  },
  {
   "cell_type": "markdown",
   "metadata": {},
   "source": [
    "### Exercice 1 :     \n",
    "Modifier le code ci-dessus pour que la fonction effectue un tri en ordre décroissant."
   ]
  },
  {
   "cell_type": "markdown",
   "metadata": {},
   "source": [
    "Afin d'avoir à éviter de modifier le code de la fonction, nous allons passer en paramètre la fonction de comparaison. Ainsi, dans la cellule de code ci-dessous, la fonction *tri_generique* prend en paramètre la fonction de comparaison selon laquelle le tri va être effectué."
   ]
  },
  {
   "cell_type": "code",
   "execution_count": null,
   "metadata": {},
   "outputs": [],
   "source": [
    "def tri_generique(comp ,T:list)->list:\n",
    "    \"\"\"\n",
    "    Renvoie le tableau T trié selon l'algorithme du tri ............. selon la relation d'ordre \n",
    "    fournie par la fonction comp passée en paramètre.\n",
    "    \"\"\"\n",
    "    for i in range (1,len(T)):\n",
    "        x=T[i]\n",
    "        j=i-1\n",
    "        while j>=0 and comp(T[j],x) : # Une fonction de comparaison passée en paramètre est utilisée ici\n",
    "            T[j+1]=T[j]\n",
    "            j=j-1\n",
    "        T[j+1]=x\n",
    "    return T\n",
    "\n",
    "def sup(x,y):\n",
    "    \"\"\"\n",
    "    Renvoie vraie si x>y\n",
    "    \"\"\"\n",
    "    return x>y\n",
    "\n",
    "print(tri_generique(sup,T))"
   ]
  },
  {
   "cell_type": "markdown",
   "metadata": {},
   "source": [
    "**Remarque :**   On ne peut pas \"typer\" $comp$ dans l'en-tête de la fonction (erreur de syntaxe), bien que le type $function$ existe en python...   \n",
    "\n",
    "On peut également utiliser des **fonctions anonymes** pour éviter de coder explicitement la fonction de comparaison.  \n",
    "Les fonctions **lambda** de python vont nous permettre de définir des fonctions \"à la volée\".  \n",
    "L'exemple suivant permet d'obtenir le même résultat que celui obtenu dans l'exemple précédent, sans avoir à définir la fonction *sup*.   "
   ]
  },
  {
   "cell_type": "code",
   "execution_count": null,
   "metadata": {},
   "outputs": [],
   "source": [
    "print(tri_generique(lambda x,y:x>y,T))"
   ]
  },
  {
   "cell_type": "markdown",
   "metadata": {},
   "source": [
    "**Remarque :** Comme leur nom l'indique, les expressions lambda de python s'inspire de la théorie du [lambda-calcul](https://fr.wikipedia.org/wiki/Lambda-calcul#Présentation_informelle) ($\\lambda-$calcul) inventée par [Alonzo Church](https://fr.wikipedia.org/wiki/Alonzo_Church) dans les années 30, qui correspond à la definition d'un système formel dans lequel tout est fonction ...\n",
    "![Alonzo Church](data:image/jpeg;base64,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 \"Alonzo Church\")  \n",
    "Voici une courte présentation , mais relativement complète, du $\\lambda-$calcul (un peu ardue sur la partie formelle , mais ce n'est pas au programme...) : https://www.youtube.com/watch?v=h7000zPdkOw\n",
    "Elle constitue également une bonne introduction aux langages fonctionnels que nous étudierons dans une future séquence."
   ]
  },
  {
   "cell_type": "markdown",
   "metadata": {},
   "source": [
    "### Exercice 2 :     \n",
    "Sur le même principe, utiliser ci-dessous la fonction *tri_generique* pour trier le tableau $T$ en ordre décroissant."
   ]
  },
  {
   "cell_type": "code",
   "execution_count": null,
   "metadata": {},
   "outputs": [],
   "source": [
    "# Votre code ici."
   ]
  },
  {
   "cell_type": "markdown",
   "metadata": {},
   "source": [
    "### Exercice 3 :     \n",
    "On souhaite modéliser le stock de disques durs d'une boutique de matériel informatique à l'aide d'une liste d'objets de la classe DD qui possède les attributs suivants :\n",
    "- marque : str \n",
    "- capacité : int (en Mo)\n",
    "- prix : float (en euros)\n",
    "- stock : int  (nombre de produits en stock)"
   ]
  },
  {
   "cell_type": "markdown",
   "metadata": {},
   "source": [
    "1) Codez ci-dessous la classe DD, dont les attributs seront tous privés, et accessibles (en consultation et modification) par des méthodes getMarque(), setMarque(),....   \n",
    "Vous définirez la méthode spéciale __str__ afin d'obtenir un appercu au format suivant : $<marque,capacité,prix,stock>$\n",
    "\n",
    "Une liste *stocks_dd* de test est fournie."
   ]
  },
  {
   "cell_type": "code",
   "execution_count": null,
   "metadata": {},
   "outputs": [],
   "source": [
    "class DD:\n",
    "\n",
    "stocks_dd=[DD(\"Jimsung\",512,50,12),\n",
    "           DD(\"Jodisk\",1024,80,24),\n",
    "           DD(\"Pirate\",1024,85,57),\n",
    "           DD(\"LoveTec\",2048,149.99,3),\n",
    "           DD(\"BigBill\",128,15,0),\n",
    "           DD(\"Fatdisk\",4096,999.99,2)]"
   ]
  },
  {
   "cell_type": "markdown",
   "metadata": {},
   "source": [
    "2) En utilisant la fonction *tri_generique* codée précedemment, effectuer les tris suivants de la liste *stocks_dd* :\n",
    "- En ordre croissant selon le prix\n",
    "- En ordre croissant selon la capacité\n",
    "- En ordre décroissant selon le stock\n",
    "- En ordre alphabetique selon la marque."
   ]
  },
  {
   "cell_type": "code",
   "execution_count": null,
   "metadata": {},
   "outputs": [],
   "source": [
    "# Votre code ici"
   ]
  },
  {
   "cell_type": "markdown",
   "metadata": {},
   "source": [
    "## Partie 2 : Fonction donnée en resultat : Un peu de mathématiques ...\n",
    "Nous pouvons également fournir en python un résultat de type fonction, en utilisant notamment les fonctions anonymes dont le principe est décrit dans la partie précédente.   \n",
    "Pour illustrer cela, nous allons étudier quelques situations mathématiques, et utiliser la bibliothèque **pylab**.   \n",
    "*pyLab* permet d’utiliser de manière aisée les bibliothèques NumPy (http://www.numpy.org/) et matplotlib (https://matplotlib.org/) pour de la programmation scientifique avec Python."
   ]
  },
  {
   "cell_type": "code",
   "execution_count": 2,
   "metadata": {},
   "outputs": [],
   "source": [
    "# Importation de la bibliothèque pylab\n",
    "from pylab import *"
   ]
  },
  {
   "cell_type": "markdown",
   "metadata": {},
   "source": [
    "### Exercice 4 : Réaliser le graphe d'une fonction.\n",
    "Pour observer nos résultats, nous représenterons graphiquement les fonctions étudiées.   \n",
    "1) Voici un script permettant de représenter le graphe de la fonction $sinus$ sur l'intervalle $[0,2\\pi]$."
   ]
  },
  {
   "cell_type": "code",
   "execution_count": 3,
   "metadata": {},
   "outputs": [
    {
     "data": {
      "text/plain": [
       "[<matplotlib.lines.Line2D at 0x2ae445ea588>]"
      ]
     },
     "execution_count": 3,
     "metadata": {},
     "output_type": "execute_result"
    },
    {
     "data": {
      "image/png": "[encoded data removed]",
      "text/plain": [
       "<Figure size 432x288 with 1 Axes>"
      ]
     },
     "metadata": {
      "needs_background": "light"
     },
     "output_type": "display_data"
    }
   ],
   "source": [
    "x = arange(0,2*pi,0.01) # Créer une liste de valeurs dans l'intervalle [0,2pi] avec un pas de 0.01\n",
    "y = sin(x)              # Créer la liste des images par la fonction sin des valeurs de la liste x\n",
    "plot(x,y)               # Place les points (x,sin(x))\n",
    "\n",
    "# Remarque : selon les versions de python, il peut être nécessaire de faire appel à la fonction show() \n",
    "# pour afficher le graphe."
   ]
  },
  {
   "cell_type": "markdown",
   "metadata": {},
   "source": [
    "2) Réaliser une fonction *graphe(f,a,b)* représentant le graphe de la fonction $f$ sur l'intervalle $[a,b]$."
   ]
  },
  {
   "cell_type": "code",
   "execution_count": null,
   "metadata": {},
   "outputs": [],
   "source": [
    "def graphe(f,a,b):\n",
    "    \"\"\"\n",
    "    Réalise le graphe de la fonction f sur l'intervalle [a,b]\n",
    "    \"\"\""
   ]
  },
  {
   "cell_type": "markdown",
   "metadata": {},
   "source": [
    "3) Définissez la fonction $P$ sur $[-10,10]$ par $P(x)=x^3-x^2-2$ et la représenter avec la fonction graphe sur cet intervalle.\n",
    "Utiliser également la fonction graphe pour représenter la fonction anonyme $x \\mapsto 3x^2-2x$ sur le même intervalle."
   ]
  },
  {
   "cell_type": "code",
   "execution_count": null,
   "metadata": {},
   "outputs": [],
   "source": [
    "def P(x):\n",
    "    return ..."
   ]
  },
  {
   "cell_type": "markdown",
   "metadata": {},
   "source": [
    "### Exercice 5 : Composée de fonctions\n",
    "Programmer la fonction $compose(f,g)$ qui renvoie la **fonction** composée de $g$ suivie de $f$.   \n",
    "Vous devrez ainsi renvoyer en résultat une fonction **lambda** afin que la syntaxe d'appel à cette fonction de composition appliquée à $x$ soit : $compose(f,g)(x)$."
   ]
  },
  {
   "cell_type": "code",
   "execution_count": null,
   "metadata": {},
   "outputs": [],
   "source": [
    "def compose(f,g):\n",
    "    \"\"\"\n",
    "    Renvoie la fonction composée de g suivie de f\n",
    "    \"\"\""
   ]
  },
  {
   "cell_type": "markdown",
   "metadata": {},
   "source": [
    "Tester votre fonction en définissant la fonction $x \\mapsto \\sqrt{x^2+1}$, composée de $x \\mapsto x^2+1$ suivie de $x \\mapsto \\sqrt{x}$.   \n",
    "Vous représenterez graphiquement cette fonction sur l'intervalle $[-10,10]$."
   ]
  },
  {
   "cell_type": "code",
   "execution_count": null,
   "metadata": {},
   "outputs": [],
   "source": []
  },
  {
   "cell_type": "markdown",
   "metadata": {},
   "source": [
    "### Exercice 6 : Famille de fonctions\n",
    "\n",
    "Pour tout entier naturel $k>1$, on définit sur $]1,+\\infty[$ la fonction $f_k:x \\mapsto \\dfrac{x^2+kx-1}{x-1}$.   \n",
    "1) Coder une fonction $f(k)$ qui renvoie la fonction $f_k$.     "
   ]
  },
  {
   "cell_type": "code",
   "execution_count": null,
   "metadata": {},
   "outputs": [],
   "source": [
    "def f(k:int):\n",
    "    \"\"\"\n",
    "    Renvoie la fonction fk\n",
    "    \"\"\""
   ]
  },
  {
   "cell_type": "markdown",
   "metadata": {},
   "source": [
    "2) Créer (en compréhension) la liste *famille* des fonctions $f_k$ pour $1<k< 10$. "
   ]
  },
  {
   "cell_type": "code",
   "execution_count": null,
   "metadata": {},
   "outputs": [],
   "source": [
    "famille =..."
   ]
  },
  {
   "cell_type": "markdown",
   "metadata": {},
   "source": [
    "3) Représenter graphiquement cette famille de fonctions sur l'intervalle $[2;10]$"
   ]
  },
  {
   "cell_type": "code",
   "execution_count": null,
   "metadata": {},
   "outputs": [],
   "source": [
    "#votre code ici"
   ]
  },
  {
   "cell_type": "markdown",
   "metadata": {},
   "source": [
    "C'est beau, non? ;)"
   ]
  },
  {
   "cell_type": "markdown",
   "metadata": {},
   "source": [
    "### Exercice 7 : Fonction dérivée.\n",
    "1) Nous allons définir dans cet exercice la fonction $derive(f)$ qui renvoie la fonction dérivée de la fonction $f$.   \n",
    "Là encore, une fonction **lambda** est renvoyée en résultat.   \n",
    "Il ne s'agit pas ici de réaliser une application complexe de calcul formel qui renvoie l'expression de la fonction dérivée, mais, dans une approche numérique, fournir une fonction qui renvoie une approximation du nombre dérivée de la fonction en un point en se basant sur la définition $\\displaystyle\\lim_{h \\to 0} \\frac {f(x+h)-f(x)}{h}=f'(x)$ *(si cette limite existe...)*.   \n",
    "On pourra ainsi prendre $h=10^{-6}$ pour obtenir une bonne approximation du nombre dérivé.   \n",
    "La syntaxe pour effectuer le calcul du nombre dérivé $f'(x)$ sera alors $derive(f)(x)$.\n"
   ]
  },
  {
   "cell_type": "code",
   "execution_count": null,
   "metadata": {},
   "outputs": [],
   "source": [
    "def derive(f):\n",
    "    \"\"\"\n",
    "    Renvoie la fonction dérivée de la fonction f (par approximation)\n",
    "    \"\"\""
   ]
  },
  {
   "cell_type": "markdown",
   "metadata": {},
   "source": [
    "2) Représenter graphiquement la fonction $P$ définie dans l'exercice 4 et sa fonction dérivée sur l'intervalle $[-10,10]$."
   ]
  },
  {
   "cell_type": "code",
   "execution_count": null,
   "metadata": {},
   "outputs": [],
   "source": [
    "# Votre code ici."
   ]
  },
  {
   "cell_type": "markdown",
   "metadata": {},
   "source": [
    "3) Représenter graphiquement la fonction $sin$ et sa fonction dérivée sur l'intervalle $[0,2\\pi]$.   "
   ]
  },
  {
   "cell_type": "code",
   "execution_count": null,
   "metadata": {},
   "outputs": [],
   "source": [
    "# Votre code ici."
   ]
  },
  {
   "cell_type": "markdown",
   "metadata": {},
   "source": [
    "A votre avis, quelle est l'expression de la fonction dérivée de la fonction sinus?"
   ]
  },
  {
   "cell_type": "markdown",
   "metadata": {},
   "source": [
    "**Votre réponse ici**"
   ]
  },
  {
   "cell_type": "markdown",
   "metadata": {},
   "source": [
    "4) Représenter maintenant la fonction dérivée seconde de la fonction sinus. "
   ]
  },
  {
   "cell_type": "code",
   "execution_count": null,
   "metadata": {},
   "outputs": [],
   "source": [
    "# Votre code ici."
   ]
  },
  {
   "cell_type": "markdown",
   "metadata": {},
   "source": [
    "Quelle conjecture pouvez-vous formuler ?"
   ]
  },
  {
   "cell_type": "markdown",
   "metadata": {},
   "source": [
    "**Votre réponse ici**"
   ]
  }
 ],
 "metadata": {
  "kernelspec": {
   "display_name": "Python 3",
   "language": "python",
   "name": "python3"
  },
  "language_info": {
   "codemirror_mode": {
    "name": "ipython",
    "version": 3
   },
   "file_extension": ".py",
   "mimetype": "text/x-python",
   "name": "python",
   "nbconvert_exporter": "python",
   "pygments_lexer": "ipython3",
   "version": "3.7.6"
  }
 },
 "nbformat": 4,
 "nbformat_minor": 4
}
