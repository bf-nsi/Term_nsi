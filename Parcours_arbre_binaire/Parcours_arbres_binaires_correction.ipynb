{
 "cells": [
  {
   "cell_type": "markdown",
   "metadata": {},
   "source": [
    "---\n",
    "# Séquence 6 : Parcours d'un arbre binaire                                  \n",
    "---\n",
    "\n",
    "Nous avons défini les arbres binaires dans les séquences précédentes et nous avons déjà pu les explorer afin d'effectuer différentes mesures ou traitements sur les noeuds. Nous avons pu notamment fournir une liste des étiquettes des feuilles d'un arbre, sans nous soucier de l'ordre de parcours jusqu'ici. \n",
    "    \n",
    "Nous allons étudié cet aspect dans ce cours en explorant différentes possibilités.\n",
    "\n",
    "Dans la suite, nous allons étudié l'arbre $A$ suivant :\n",
    "![Arbre_1](./images/arbre_1.jpg \"arbre_1\")\n",
    "\n"
   ]
  },
  {
   "cell_type": "markdown",
   "metadata": {},
   "source": [
    "### Exercice 1 \n",
    "   \n",
    "Nous allons utiliser la classe $BinTree$ pour modéliser $A$ dans la cellule de code ci-dessous.  \n",
    "   \n",
    "Créer un objet arbre $A$ de cette classe (n'hésitez pas à l'imprimer pour vérification...)\n"
   ]
  },
  {
   "cell_type": "code",
   "execution_count": 1,
   "metadata": {},
   "outputs": [
    {
     "name": "stdout",
     "output_type": "stream",
     "text": [
      "        / f\n",
      "    / b\n",
      "        \\ e\n",
      "            \\ k\n",
      " r\n",
      "            / j\n",
      "                \\ l\n",
      "        / d\n",
      "            \\ i\n",
      "    \\ a\n",
      "            / h\n",
      "        \\ c\n",
      "\n"
     ]
    }
   ],
   "source": [
    "from BinTree import *\n",
    "\n",
    "# Définition de A\n",
    "A=BinTree(\"r\",BinTree(\"a\",BinTree(\"c\",None,BinTree(\"h\")),BinTree(\"d\",BinTree(\"i\"),BinTree(\"j\",BinTree(\"l\"),None))),BinTree(\"b\",BinTree(\"e\",BinTree(\"k\"),None),BinTree(\"f\")))\n",
    "print(A)\n"
   ]
  },
  {
   "cell_type": "markdown",
   "metadata": {},
   "source": [
    "## 1. Ballade autour de l'arbre.  \n",
    "  \n",
    "On se ballade autour de l'arbre en suivant les pointillés dans l'ordre des numéros indiqués.\n",
    "\n",
    "![Arbre_2](./images/arbre_2.jpg \"arbre_2\")\n"
   ]
  },
  {
   "cell_type": "markdown",
   "metadata": {},
   "source": [
    "### 1) Première définition des trois parcours  \n",
    "\n",
    "A partir de ce contour, on définit trois parcours des sommets de l’arbre :\n",
    "1. **l’ordre préfixe :** on liste chaque sommet la première fois qu’on le rencontre dans la balade. Ce qui\n",
    "donne ici : . . .\n",
    "2. **l’ordre postfixe :** on liste chaque sommet la dernière fois qu’on le rencontre. Ce qui donne ici : . . .\n",
    "3. **l’ordre infixe :** on liste chaque sommet ayant un fils gauche la seconde fois qu’on le voit et chaque\n",
    "sommet sans fils gauche la première fois qu’on le voit. Ce qui donne ici : . . ."
   ]
  },
  {
   "cell_type": "markdown",
   "metadata": {},
   "source": [
    "**Vos réponses :**  \n",
    "1. ordre préfixe : *r,a,c,h,d,i,j,l,b,e,k,f*\n",
    "2. ordre postfixe : *h,c,i,l,j,d,a,k,e,f,b,r*\n",
    "3. ordre infixe : *c,h,a,i,d,l,j,r,k,e,b,f*"
   ]
  },
  {
   "cell_type": "markdown",
   "metadata": {},
   "source": [
    "### 2) Seconde définition des trois parcours   \n",
    "Dans la balade schématisée plus haut, on ajoute les fils fantômes manquants :\n",
    "![Arbre_3](./images/arbre_3.jpg \"arbre_3\")  \n",
    "On peut ainsi considérer qu’on passe une fois à gauche de chaque noeud (en descendant), une fois en dessous\n",
    "de chaque noeud, une fois à droite de chaque noeud (en remontant).  \n",
    "Vérifier, sur l’exemple, que chacun des ordres préfixe, infixe, postfixe est obtenu en listant tous les mots : \n",
    "1. lorsqu’on passe à leur gauche, soit l'ordre ...\n",
    "2. soit lorsqu’on passe à leur droite ...\n",
    "3. soit lorsqu’on passe en-dessous ...   \n",
    "   \n",
    "Vérifier qu'avec cette définition, on retrouve les parcours décris dans la partie précédente"
   ]
  },
  {
   "cell_type": "markdown",
   "metadata": {},
   "source": [
    "**Votre réponse :**   \n",
    "On retrouve bien les parcours précédent dans le même ordre."
   ]
  },
  {
   "cell_type": "markdown",
   "metadata": {},
   "source": [
    "## II. Algorithmes récursifs de parcours des arbres binaires\n",
    "  \n",
    "### 1) Parcours en ordre préfixe, postfixe, infixe.  \n",
    "On donne les algorithmes en pseudo-code des 3 parcours définis précédemment :\n",
    "\n",
    "![algos](./images/algos.jpg \"algos\")"
   ]
  },
  {
   "cell_type": "markdown",
   "metadata": {},
   "source": [
    "### Exercice 2 :  \n",
    "1) Coder en python ces algorithmes en les adaptant à la classe $BinTree$.  \n",
    "   \n",
    "**Remarque :** Pour imprimer les étiquettes à la suite, vous pouvez utiliser l'argumet *end=\" \"* de la fonction *print*. Ex : *print(\"Hello\",end=\" \")*   "
   ]
  },
  {
   "cell_type": "code",
   "execution_count": 2,
   "metadata": {},
   "outputs": [
    {
     "name": "stdout",
     "output_type": "stream",
     "text": [
      "r a c h d i j l b e k f \n",
      "h c i l j d a k e f b r \n",
      "c h a i d l j r k e b f \n"
     ]
    }
   ],
   "source": [
    "def ParcoursPrefixe(A:BinTree) :\n",
    "    \"\"\"\n",
    "    Imprime la liste des étiquettes des noeuds de l'arbre A en ordre préfixe.\n",
    "    \"\"\"\n",
    "    # Votre code ici\n",
    "    if not(A.estVide()):\n",
    "        print(A.racine(),end=\" \")\n",
    "        ParcoursPrefixe(A.gauche())\n",
    "        ParcoursPrefixe(A.droit())\n",
    "\n",
    "ParcoursPrefixe(A)\n",
    "print()\n",
    "\n",
    "def ParcoursPostfixe(A:BinTree) :\n",
    "    \"\"\"\n",
    "    Imprime la liste des étiquettes des noeuds de l'arbre A en ordre préfixe.\n",
    "    \"\"\"\n",
    "    # Votre code ici\n",
    "    if not(A.estVide()):\n",
    "        ParcoursPostfixe(A.gauche())\n",
    "        ParcoursPostfixe(A.droit())\n",
    "        print(A.racine(),end=\" \")\n",
    "\n",
    "ParcoursPostfixe(A)\n",
    "print()\n",
    "\n",
    "def ParcoursInfixe(A:BinTree) :\n",
    "    \"\"\"\n",
    "    Imprime la liste des étiquettes des noeuds de l'arbre A en ordre préfixe.\n",
    "    \"\"\"\n",
    "    # Votre code ici\n",
    "    if not(A.estVide()):\n",
    "        ParcoursInfixe(A.gauche())\n",
    "        print(A.racine(),end=\" \")\n",
    "        ParcoursInfixe(A.droit())\n",
    "\n",
    "ParcoursInfixe(A)\n",
    "print()"
   ]
  },
  {
   "cell_type": "markdown",
   "metadata": {},
   "source": [
    "2) Modifier votre code pour que les étiquettes des noeuds de l'arbre soient fournis dans les ordres correspondants dans une liste rendue en résultat."
   ]
  },
  {
   "cell_type": "code",
   "execution_count": 3,
   "metadata": {},
   "outputs": [
    {
     "name": "stdout",
     "output_type": "stream",
     "text": [
      "['r', 'a', 'c', 'h', 'd', 'i', 'j', 'l', 'b', 'e', 'k', 'f']\n",
      "['h', 'c', 'i', 'l', 'j', 'd', 'a', 'k', 'e', 'f', 'b', 'r']\n",
      "['c', 'h', 'a', 'i', 'd', 'l', 'j', 'r', 'k', 'e', 'b', 'f']\n"
     ]
    }
   ],
   "source": [
    "def ParcoursPrefixeList(A:BinTree)->list:\n",
    "    \"\"\"\n",
    "    Renvoie la liste des étiquettes des noeuds de l'arbre A en ordre préfixe.\n",
    "    \"\"\"\n",
    "    if A.estVide():\n",
    "        return []\n",
    "    else:\n",
    "        return [A.racine()]+ParcoursPrefixeList(A.gauche())+ParcoursPrefixeList(A.droit())\n",
    "\n",
    "print(ParcoursPrefixeList(A))\n",
    "\n",
    "def ParcoursPostfixeList(A:BinTree)->list:\n",
    "    \"\"\"\n",
    "    Renvoie la liste des étiquettes des noeuds de l'arbre A en ordre préfixe.\n",
    "    \"\"\"\n",
    "    if A.estVide():\n",
    "        return []\n",
    "    else:\n",
    "        return ParcoursPostfixeList(A.gauche())+ParcoursPostfixeList(A.droit())+[A.racine()]\n",
    "\n",
    "print(ParcoursPostfixeList(A))\n",
    "\n",
    "def ParcoursInfixeList(A:BinTree)->list:\n",
    "    \"\"\"\n",
    "    Renvoie la liste des étiquettes des noeuds de l'arbre A en ordre préfixe.\n",
    "    \"\"\"\n",
    "    if A.estVide():\n",
    "        return []\n",
    "    else:\n",
    "        return ParcoursInfixeList(A.gauche())+[A.racine()]+ParcoursInfixeList(A.droit())\n",
    "\n",
    "print(ParcoursInfixeList(A))\n",
    "        "
   ]
  },
  {
   "cell_type": "markdown",
   "metadata": {},
   "source": [
    "### Exercice 3.\n",
    "Retrouvons l'arbre que nous avons étudié dans les séquences précédentes.\n",
    "![Arbre_tp1](images/arbre_tp1.jpg \"arbre_tp1\")   \n",
    "   \n",
    "1) Quel ordre de lecture fournit le mot Python ?\n"
   ]
  },
  {
   "cell_type": "markdown",
   "metadata": {},
   "source": [
    "\n",
    "**Votre réponse :**\n"
   ]
  },
  {
   "cell_type": "markdown",
   "metadata": {},
   "source": [
    "2) Vérifier le avec les fonctions codées précedemment."
   ]
  },
  {
   "cell_type": "code",
   "execution_count": 4,
   "metadata": {},
   "outputs": [],
   "source": [
    "python=BinTree(BinTree(\"T\",BinTree(\"Y\",BinTree(\"P\")),BinTree(\"O\",BinTree(\"H\"),BinTree(\"N\"))))"
   ]
  },
  {
   "cell_type": "markdown",
   "metadata": {},
   "source": [
    "### Exercice 4     \n",
    "    \n",
    "1) Dans quel ordre les noeuds sont-ils fournis lors d'une création d'un arbre avec la classe BinTree?   \n",
    "    \n",
    "2) Une écriture d'une expression dans un ordre particulier correspond-t-elle à un unique arbre binaire? Quelle(s) condition(s) faut-il envisager au cas échéant?\n",
    "\n",
    "3) Quel est la complexité temporelle des algorithmes de parcours que nous avons étudié?\n"
   ]
  },
  {
   "cell_type": "markdown",
   "metadata": {},
   "source": [
    "**Vos réponses :**"
   ]
  },
  {
   "cell_type": "markdown",
   "metadata": {},
   "source": [
    "### Exercice 5 : Notation polonaise.  \n",
    "\n",
    "La notation polonaise inverse (<https://fr.wikipedia.org/wiki/Notation_polonaise_inverse>) permet d'écrire des expressions arithmétiques sans parenthèse de manière non ambigüe.  \n",
    "Nous allons étudié l'expression suivante comportant des opérations binaires, codée à l'aide d'un arbre.\n",
    "![Arbre_pol](./images/arbre_pol.jpg \"arbre_pol\")  \n",
    "1) Écrire les sommets de l’arbre ci-dessous pour chacun des ordres postfixe, préfixe, infixe :\n",
    "\n"
   ]
  },
  {
   "cell_type": "markdown",
   "metadata": {},
   "source": [
    "**Vos réponses :**\n",
    "Voir execution ci-dessous"
   ]
  },
  {
   "cell_type": "markdown",
   "metadata": {},
   "source": [
    "2) Coder l'arbre ci-dessus et vérifier vos résultats."
   ]
  },
  {
   "cell_type": "code",
   "execution_count": 5,
   "metadata": {},
   "outputs": [
    {
     "name": "stdout",
     "output_type": "stream",
     "text": [
      "/ * + a b - c d + e f \n",
      "a b + c d - * e f + / \n",
      "a + b * c - d / e + f "
     ]
    }
   ],
   "source": [
    "Exp=BinTree(\"/\",BinTree(\"*\",BinTree(\"+\",BinTree(\"a\"),BinTree(\"b\")),BinTree(\"-\",BinTree(\"c\"),BinTree(\"d\"))),BinTree(\"+\",BinTree(\"e\"),BinTree(\"f\")))\n",
    "ParcoursPrefixe(Exp)\n",
    "print()\n",
    "ParcoursPostfixe(Exp)\n",
    "print()\n",
    "ParcoursInfixe(Exp)"
   ]
  },
  {
   "cell_type": "markdown",
   "metadata": {},
   "source": [
    "3) Seuls les parcours préfixe et postfixe fournissent une interprétation des expressions non ambigüe. (Essayez d'en effectuer la lecture...). \n",
    "\n",
    "La notation postfixée correspond à la NPI.\n",
    "  \n",
    "La notation infixe doit être modifiée pour être interpretée. On ajoute ainsi la convention suivante :   \n",
    "on ajoute une parenthèse ouvrante à chaque fois qu’on entre dans un sous-arbre et on ajoute une parenthèse fermante lorsqu’on quitte ce sous-arbre.   \n",
    "   \n",
    "En vous inspirant de la fonction $ParcoursInfixe$ et en intégrant la convention sur les parenthèses, écrire une fonction fournissant l'expression sous forme d'une chaîne de caractères. Que remarquez-vous?"
   ]
  },
  {
   "cell_type": "code",
   "execution_count": 6,
   "metadata": {},
   "outputs": [
    {
     "name": "stdout",
     "output_type": "stream",
     "text": [
      "(((a)+(b))*((c)-(d)))/((e)+(f))\n"
     ]
    }
   ],
   "source": [
    "def ParcoursInfixeParentheses(A:BinTree) :\n",
    "    \"\"\"\n",
    "    Imprime la liste des étiquettes des noeuds de l'arbre A en ordre préfixe.\n",
    "    \"\"\"\n",
    "    if A.estVide():\n",
    "        return \"\"\n",
    "    elif A.estFeuille():\n",
    "        return A.racine()\n",
    "    else:\n",
    "        return \"(\"+ParcoursInfixeParentheses(A.gauche())+\")\"+A.racine()+\"(\"+ParcoursInfixeParentheses(A.droit())+\")\"\n",
    "\n",
    "print(ParcoursInfixeParentheses(Exp))"
   ]
  },
  {
   "cell_type": "markdown",
   "metadata": {},
   "source": [
    "### Exercice  6: Parcours en largeur\n",
    "    \n",
    "Une autre façon de parcourir les arbres correspond au **parcours en largeur d'abord** selon le principe suivant :\n",
    "on commence par explorer un nœud source, puis ses successeurs, puis les successeurs non explorés des successeurs, etc...   \n",
    "Le schéma suivant présente l'ordre dans lequel les nœuds sont parcourus :\n",
    "![Arbre_largeur](./images/arbre_largeur.png \"arbre_largeur\")\n",
    "    \n",
    "1) Donner la liste des sommets de l'arbre $A$ donnée par un parcours de l'arbre dans cet ordre :"
   ]
  },
  {
   "cell_type": "markdown",
   "metadata": {},
   "source": [
    "**Réponse :** \n",
    "*rabcdefhijkl*"
   ]
  },
  {
   "cell_type": "markdown",
   "metadata": {},
   "source": [
    "2) Coder maintenant une fonction $ParcoursLargeur$ qui renvoie la liste des étiquettes d'un arbre $BinTree$ dans cet ordre.  \n",
    "   \n",
    "Vous testerez votre fonction sur l'arbre $A$ et vérifierez votre réponse."
   ]
  },
  {
   "cell_type": "markdown",
   "metadata": {},
   "source": [
    "**Correction :**\n",
    "L'algorithme de parcours en largeur (ou **BFS**, pour Breadth First Search en anglais) permet le parcours d'un arbre de la manière suivante : on commence par explorer un noeud source, puis ses successeurs, puis les successeurs non explorés des successeurs, etc.   \n",
    "A partir d'un noeud source S, il liste d'abord les voisins de S pour ensuite les explorer un par un. Ce mode de fonctionnement utilise donc une file dans laquelle il prend le premier sommet et place en dernier ses voisins non encore explorés.   \n",
    "Le principe de l’algorithme est le suivant :   \n",
    "1. Mettre le noeud source dans la file.   \n",
    "2. Retirer le noeud du début de la file pour le traiter.   \n",
    "3. Mettre tous les voisins non explorés dans la file (à la fin).   \n",
    "4. Si la file n'est pas vide reprendre à l'étape 2.  \n",
    "\n",
    "Dans la mise en oeuvre proposée ci-dessous, nous utilisons une liste pour modéliser la file, avec les appels à append pour enfiler, et pop(0) pour défiler."
   ]
  },
  {
   "cell_type": "code",
   "execution_count": 7,
   "metadata": {},
   "outputs": [
    {
     "name": "stdout",
     "output_type": "stream",
     "text": [
      "['r', 'a', 'b', 'c', 'd', 'e', 'f', 'h', 'i', 'j', 'k', 'l']\n"
     ]
    }
   ],
   "source": [
    "def BFS(A:BinTree):\n",
    "    file=[]\n",
    "    res=[]\n",
    "    file.append(A)\n",
    "    while file!=[]:\n",
    "        n=file.pop(0)\n",
    "        res.append(n.racine())\n",
    "        if not(n.gauche().estVide()):\n",
    "            file.append(n.gauche())\n",
    "        if not(n.droit().estVide()):\n",
    "            file.append(n.droit())\n",
    "    return res\n",
    "               \n",
    "print(BFS(A))\n",
    "    "
   ]
  },
  {
   "cell_type": "markdown",
   "metadata": {},
   "source": [
    "### Exercice 7\n",
    "   \n",
    "1) Combien de noeuds comporte un arbre complet de profondeur $n$ ?"
   ]
  },
  {
   "cell_type": "markdown",
   "metadata": {},
   "source": [
    "**Votre réponse :**"
   ]
  },
  {
   "cell_type": "markdown",
   "metadata": {},
   "source": [
    "2)  Coder une fonction $creerArbreComplet(L:list)->BinTree$ qui renvoie un arbre complet de manière infixe sur le principe de diviser pour régner. Vous vérifiez à l'aide d'une assertion que la taille de la liste correpsond au nombre de noeuds nécessaires.\n",
    "\n",
    "    "
   ]
  },
  {
   "cell_type": "code",
   "execution_count": 9,
   "metadata": {},
   "outputs": [
    {
     "name": "stdout",
     "output_type": "stream",
     "text": [
      "        / g\n",
      "    / f\n",
      "        \\ e\n",
      " d\n",
      "        / c\n",
      "    \\ b\n",
      "        \\ a\n",
      "\n"
     ]
    }
   ],
   "source": [
    "def creerArbreComplet(L:list)-> BinTree :\n",
    "    \"\"\"\n",
    "    Renvoie un arbre complet de manière infixe dont les noeuds sont les éléments de L\n",
    "    \"\"\"\n",
    "    if L==[]:\n",
    "        return BinTree()\n",
    "    elif len(L)==1 :\n",
    "        return BinTree(L[0])\n",
    "    else :\n",
    "        milieu = len(L)//2\n",
    "        return BinTree(L[milieu],creerArbreComplet(L[:milieu]),creerArbreComplet(L[milieu+1:]))\n",
    "\n",
    "print(creerArbreComplet(\"abcdefg\"))\n"
   ]
  }
 ],
 "metadata": {
  "kernelspec": {
   "display_name": "Python 3",
   "language": "python",
   "name": "python3"
  },
  "language_info": {
   "codemirror_mode": {
    "name": "ipython",
    "version": 3
   },
   "file_extension": ".py",
   "mimetype": "text/x-python",
   "name": "python",
   "nbconvert_exporter": "python",
   "pygments_lexer": "ipython3",
   "version": "3.7.6"
  }
 },
 "nbformat": 4,
 "nbformat_minor": 4
}
