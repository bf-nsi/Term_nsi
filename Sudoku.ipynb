{
 "cells": [
  {
   "cell_type": "markdown",
   "metadata": {},
   "source": [
    "----\n",
    "# **Mini-projet : Grille de Sudoku**\n",
    "----"
   ]
  },
  {
   "cell_type": "markdown",
   "metadata": {},
   "source": [
    "*Vous avez certainement tous rêvé secretement de devenir un grand maître de la résolution de grille de Sudoku.;)  \n",
    "Ce projet devrait vous permettre d'atteindre enfin ce but.*\n",
    "\n",
    "Un Sudoku classique est une grille de 9 lignes et 9 colonnes, donc composée de 9 blocs distincts de 3 lignes et 3 colonnes.      \n",
    "Remplir une grille de Sudoku consiste à utiliser tous les chiffres de 1 à 9 pour chacun des 9 blocs de sorte que chaque ligne et chaque colonne de la grille totale ne comporte aucun chiffre en double.  \n",
    "L'objectif de ce mini-projet est d'obtenir le remplissage de la grille ci-dessous.\n",
    "![Grille](./Images/grille1.jpg \"grille sudoku\")"
   ]
  },
  {
   "cell_type": "markdown",
   "metadata": {},
   "source": [
    "## 1) Modélisation   \n",
    "Dans ce projet, on représentera une telle grille par une liste S de 9 listes à 9 éléments, chacune des listes représentant une ligne.  "
   ]
  },
  {
   "cell_type": "markdown",
   "metadata": {},
   "source": [
    "### Exercice 1\n",
    "Compléter dans la cellule de code ci-dessous la définition de la variable $S=[0,1,0,0,7,8,0,0,0]$"
   ]
  },
  {
   "cell_type": "code",
   "execution_count": null,
   "metadata": {},
   "outputs": [],
   "source": [
    "S=[] # Compléter la définition de S"
   ]
  },
  {
   "cell_type": "markdown",
   "metadata": {},
   "source": [
    "## 2) Fonctions auxiliaires  \n",
    "Pour atteindre notre but, nous allons au préalable définir des fonctions auxiliaires qui nous seront utiles pour la résolution de la grille."
   ]
  },
  {
   "cell_type": "markdown",
   "metadata": {},
   "source": [
    "### Exercice 2\n",
    "Ecrire une fonction $ligne(S,i)$ qui retourne la liste des chiffres de 1 à 9 qui apparaissent à la ligne $i$.\n",
    "On devra avoir pour notre grille : \n",
    "\n",
    "    >>> ligne(S,0)\n",
    "    [1,7,8]\n"
   ]
  },
  {
   "cell_type": "code",
   "execution_count": null,
   "metadata": {},
   "outputs": [],
   "source": [
    "def ligne(S:list,i:int)->list:\n",
    "    \"\"\"\n",
    "    Retourne la liste des chiffres de 1 à 9 qui apparaissent à la ligne i.\n",
    "    Test : \n",
    "    >>> ligne(S,0)\n",
    "    [1,7,8]\n",
    "\n",
    "    \"\"\""
   ]
  },
  {
   "cell_type": "markdown",
   "metadata": {},
   "source": [
    "### Exercice 3\n",
    "Ecrire une fonction $colonne(S,j)$ qui retourne la liste des chiffres de 1 à 9 qui apparaissent dans la colonne $j$.\n",
    "On devra avoir pour notre grille : \n",
    "\n",
    "    >>> colonne(S,0)\n",
    "    [1]\n"
   ]
  },
  {
   "cell_type": "code",
   "execution_count": null,
   "metadata": {},
   "outputs": [],
   "source": [
    "def ligne(S:list,i:int)->list:\n",
    "    \"\"\"\n",
    "    Retourne la liste des chiffres de 1 à 9 qui apparaissent à la ligne i.\n",
    "    Test : \n",
    "    >>> colonne(S,0)\n",
    "    [1]\n",
    "\n",
    "    \"\"\""
   ]
  },
  {
   "cell_type": "markdown",
   "metadata": {},
   "source": [
    "### Exercice 4\n",
    "Ecrire une fonction $bloc(S,i,j)$ qui retourne la liste des chiffres de 1 à 9 qui apparaissent dans le bloc $3 \\times 3$ auquel appartient la case de la ligne $i$ et de la colonne $j$.\n",
    "On devra avoir pour notre grille : \n",
    "\n",
    "    >>> bloc(S,3,4)\n",
    "    [6,9,1,5,8]\n"
   ]
  },
  {
   "cell_type": "code",
   "execution_count": null,
   "metadata": {},
   "outputs": [],
   "source": [
    "def bloc(S:list,i:int,j:int)->list:\n",
    "    \"\"\"\n",
    "    Retourne la liste des chiffres de 1 à 9 qui apparaissent dans le bloc 3×3 auquel appartient \n",
    "    la case de la ligne 𝑖 et de la colonne 𝑗\n",
    "    Test : \n",
    "    >>> colonne(S,0)\n",
    "    [1]\n",
    "    \"\"\""
   ]
  },
  {
   "cell_type": "markdown",
   "metadata": {},
   "source": [
    "### Exercice 5\n",
    "Ecrire une fonction $possibles(S,i,j)$ qui retourne la liste des chiffres de 1 à 9 que l'on peut écrire dans la case  de la ligne $i$ et de la colonne $j$ (en tenant compte des règles du jeu).   \n",
    "On devra avoir pour notre grille : \n",
    "\n",
    "    >>> possibles(S,0,0)\n",
    "    [2,3,4,6,9]"
   ]
  },
  {
   "cell_type": "code",
   "execution_count": null,
   "metadata": {},
   "outputs": [],
   "source": [
    "def possibles(S:list,i:int,j:int)->list:\n",
    "    \"\"\"\n",
    "    Retourne la liste des chiffres de 1 à 9 que l'on peut écrire dans la case  de la ligne i et de la colonne j \n",
    "    (en tenant compte des règles du jeu)\n",
    "    Test: \n",
    "    >>> possibles(S,0,0)\n",
    "    [2,3,4,6,9]\n",
    "    \"\"\""
   ]
  },
  {
   "cell_type": "markdown",
   "metadata": {},
   "source": [
    "### Exercice 6\n",
    "On complète la grille de la ligne 0 à la ligne 8, de la colonne 0 à la colonne 8.  \n",
    "Ecrire une fonction $suivante(i,j)$ qui reçoit en paramètre la ligne $i$ et la colonne $j$ et qui renvoie le tuple (ligne,colonne) de la case suivante.   \n",
    "On devra avoir : \n",
    "\n",
    "    >>> suivante(0,0), suivante(0,8), suivante(8,8)\n",
    "    (0,1),(1,0),(9,0)"
   ]
  },
  {
   "cell_type": "code",
   "execution_count": null,
   "metadata": {},
   "outputs": [],
   "source": [
    "def suivante(i:int,j:int)->tuple:\n",
    "    \"\"\"\n",
    "    Reçoit en paramètre la ligne i et la colonne j et qui renvoie le tuple (ligne,colonne) de la case suivante.\n",
    "    Test :\n",
    "    >>> suivante(0,0),suivante(0,8),suivante(8,8)\n",
    "    (0,1),(1,0),(9,0\n",
    "    \"\"\""
   ]
  },
  {
   "cell_type": "markdown",
   "metadata": {},
   "source": [
    "## 3) Resolution  \n",
    "Voici enfin l'algorithme de resolution de grille de Sudoku, qui est court (mais relativement complexe).\n",
    "Il permet de fournir la résolution de la grille passée en paramètre à partir de la case (i,j) : \n",
    "> ***Fonction resoudre(Grille,i,j) :***   \n",
    "\n",
    ">*Si i = 9 alors renvoyer que la grille est globalement résolue*   \n",
    ">*Sinon si la case (i,j) est complétée alors résoudre la grille à partir de la case suivante*   \n",
    ">*Sinon si la case (i,j) n’est pas complétée alors:*    \n",
    ">>*Pour chaque valeur k possible à cet emplacement : (boucle)*   \n",
    ">>>*Remplir la case (i,j) avec k*   \n",
    ">>>*Si la grille est résolue à partir de la case suivante, alors renvoyer que la grille est globalement résolue*  \n",
    "\n",
    ">>*Si l’on sort de la boucle, alors renvoyer que la grille n’est pas globalement résolue et la case (i,j) est vidée*   \n"
   ]
  },
  {
   "cell_type": "markdown",
   "metadata": {},
   "source": [
    "### Exercice 7\n",
    "*Dans cette partie, répondre aux questions en complétant les cellules de texte.*"
   ]
  },
  {
   "cell_type": "markdown",
   "metadata": {},
   "source": [
    "1) Si l'on définie la fonction $resoudre(S,i,j)$ implémentant cet algorithme, quel est le type du résultat ?"
   ]
  },
  {
   "cell_type": "markdown",
   "metadata": {},
   "source": [
    "Votre réponse ici."
   ]
  },
  {
   "cell_type": "markdown",
   "metadata": {},
   "source": [
    "2) Quel appel doit-on faire initialement pour résoudre la grille S ?"
   ]
  },
  {
   "cell_type": "raw",
   "metadata": {},
   "source": [
    "Votre réponse ici."
   ]
  },
  {
   "cell_type": "markdown",
   "metadata": {},
   "source": [
    "3) Cet algorithme est recursif. Indiquez dans l'algorithme les appels recursifs."
   ]
  },
  {
   "cell_type": "markdown",
   "metadata": {},
   "source": [
    "Votre réponse ici."
   ]
  },
  {
   "cell_type": "markdown",
   "metadata": {},
   "source": [
    "4) Identifier le cas élémentaire garantissant la terminaison de cet algorithme et expliquer succinctement pourquoi cet algorithme se termine. "
   ]
  },
  {
   "cell_type": "markdown",
   "metadata": {},
   "source": [
    "Votre réponse ici."
   ]
  },
  {
   "cell_type": "markdown",
   "metadata": {},
   "source": [
    "### Exercice 8   \n",
    "Coder la fonction $resoudre(S,i,j)$ dans la cellule de code ci-dessous."
   ]
  },
  {
   "cell_type": "code",
   "execution_count": null,
   "metadata": {},
   "outputs": [],
   "source": [
    "def resoudre(S:list,i:int,j:int):\n",
    "    \"\"\"\n",
    "    Indique si la grille passée en paramètre est globalement résolue à partir de la case (i,j)\n",
    "    \"\"\""
   ]
  },
  {
   "cell_type": "markdown",
   "metadata": {},
   "source": [
    "Vous pourrez vous amuser à vérifier si vous retrouvez le résultat fourni à la main..."
   ]
  }
 ],
 "metadata": {
  "kernelspec": {
   "display_name": "Python 3",
   "language": "python",
   "name": "python3"
  },
  "language_info": {
   "codemirror_mode": {
    "name": "ipython",
    "version": 3
   },
   "file_extension": ".py",
   "mimetype": "text/x-python",
   "name": "python",
   "nbconvert_exporter": "python",
   "pygments_lexer": "ipython3",
   "version": "3.7.6"
  }
 },
 "nbformat": 4,
 "nbformat_minor": 4
}
